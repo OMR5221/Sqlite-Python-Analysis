{
 "cells": [
  {
   "cell_type": "code",
   "execution_count": 12,
   "metadata": {},
   "outputs": [
    {
     "name": "stdout",
     "output_type": "stream",
     "text": [
      "[(1, u'Fred Bloggs', u'2/1/48', u'', 1, 2), (2, u'John Smith', u'3/3/50', u'', 3, 4), (3, u'Helen Smyth', u'8/8/48', u'', 4, 5), (4, u'Harriet Smithson', u'9/5/09', u'9/20/80', 5, 6), (5, u'James First', u'10/6/65', u'', 7, 7), (6, u'Theo Mengel', u'12/8/48', u'', 7, 1), (7, u'Sue Little', u'2/21/45', u'', 8, 9), (8, u'Harry Forte', u'2/28/51', u'', 1, 8), (9, u'Phil Hot', u'6/30/42', u'', 2, 7), (10, u'Jeff Dawn', u'12/12/45', u'', 3, 6), (11, u'Rose Spring', u'5/25/48', u'', 4, 5), (12, u'Davis Heavan', u'3/10/75', u'', 5, 4), (13, u'Lovely Time', u'12/28/48', u'', 6, 3), (14, u'Alan Fluff', u'1/15/35', u'5/15/97', 7, 2), (15, u'Tony Smythe', u'2/4/32', u'', 8, 1), (16, u'James Quick', u'8/8/24', u'', 9, 2), (17, u'Freda Miles', u'4/7/20', u'', 9, 3), (18, u'Elsie James', u'6/5/47', u'', 8, 5), (19, u'Andy Jones', u'8/10/58', u'', 7, 6), (20, u'Louise Simpson', u'10/1/48', u'2/11/98', 6, 6), (21, u'James Steeple', u'10/1/47', u'', 5, 6), (22, u'Steven Chaytors', u'11/3/56', u'', 6, 7)]\n",
      "    musician_id     musician_name   born_on  died_on  born_in  living_in\n",
      "0             1       Fred Bloggs    2/1/48                 1          2\n",
      "1             2        John Smith    3/3/50                 3          4\n",
      "2             3       Helen Smyth    8/8/48                 4          5\n",
      "3             4  Harriet Smithson    9/5/09  9/20/80        5          6\n",
      "4             5       James First   10/6/65                 7          7\n",
      "5             6       Theo Mengel   12/8/48                 7          1\n",
      "6             7        Sue Little   2/21/45                 8          9\n",
      "7             8       Harry Forte   2/28/51                 1          8\n",
      "8             9          Phil Hot   6/30/42                 2          7\n",
      "9            10         Jeff Dawn  12/12/45                 3          6\n",
      "10           11       Rose Spring   5/25/48                 4          5\n",
      "11           12      Davis Heavan   3/10/75                 5          4\n",
      "12           13       Lovely Time  12/28/48                 6          3\n",
      "13           14        Alan Fluff   1/15/35  5/15/97        7          2\n",
      "14           15       Tony Smythe    2/4/32                 8          1\n",
      "15           16       James Quick    8/8/24                 9          2\n",
      "16           17       Freda Miles    4/7/20                 9          3\n",
      "17           18       Elsie James    6/5/47                 8          5\n",
      "18           19        Andy Jones   8/10/58                 7          6\n",
      "19           20    Louise Simpson   10/1/48  2/11/98        6          6\n",
      "20           21     James Steeple   10/1/47                 5          6\n",
      "21           22   Steven Chaytors   11/3/56                 6          7\n"
     ]
    }
   ],
   "source": [
    "%matplotlib notebook\n",
    "import sqlite3 as sql3\n",
    "import pandas as pd\n",
    "import matplotlib.pyplot as plt\n",
    "\n",
    "mc_db_path = 'C:\\Users\\oswal\\Documents\\Data_Analyst_Work_Product_Folder\\musicians_example.db'\n",
    "\n",
    "conn = sql3.connect(mc_db_path)\n",
    "\n",
    "# gET TABLE DATA:\n",
    "mc_sql = \"\"\"\n",
    "SELECT *\n",
    "FROM musician m\n",
    "\"\"\"\n",
    "\n",
    "pl_sql = \"\"\"\n",
    "SELECT *\n",
    "FROM place\n",
    "\"\"\"\n",
    "\n",
    "composer_sql =\"\"\"\n",
    "SELECT *\n",
    "FROM composer\n",
    "\"\"\"\n",
    "\n",
    "compsition_sql = \"\"\"\n",
    "SELECT *\n",
    "FROM composition\n",
    "\"\"\"\n",
    "\n",
    "performance_sql =\"\"\"\n",
    "SELECT *\n",
    "FROM performance\n",
    "\"\"\"\n",
    "\n",
    "hc_sql = \"\"\"\n",
    "SELECT *\n",
    "FROM has_composed\n",
    "\"\"\"\n",
    "\n",
    "ct_sql =\"\"\"\n",
    "SELECT *\n",
    "FROM concert\n",
    "\"\"\"\n",
    "\n",
    "\n",
    "performer_sql =\"\"\"\n",
    "SELECT *\n",
    "FROM performer\n",
    "\"\"\"\n",
    "\n",
    "band_sql =\"\"\"\n",
    "SELECT *\n",
    "FROM band\n",
    "\"\"\"\n",
    "\n",
    "playsin_sql =\"\"\"\n",
    "SELECT *\n",
    "FROM plays_in\n",
    "\"\"\"\n",
    "\n",
    "\n",
    "mc_cursor = conn.execute(mc_sql)\n",
    "\n",
    "mc_rows = mc_cursor.fetchall()\n",
    "\n",
    "print(mc_rows)\n",
    "\n",
    "# mc_df = pd.read_sql_query(mc_sql, conn)\n",
    "# mc_cursor.description # gets column headers\n",
    "mc_df1 = pd.DataFrame(mc_rows, columns=[x[0] for x in mc_cursor.description])\n",
    "\n",
    "print(mc_df1)\n",
    "\n",
    "conn.close()"
   ]
  },
  {
   "cell_type": "code",
   "execution_count": 6,
   "metadata": {},
   "outputs": [
    {
     "name": "stdout",
     "output_type": "stream",
     "text": [
      "    musician_id     musician_name   born_on  died_on  born_in  living_in\n",
      "0             1       Fred Bloggs    2/1/48                 1          2\n",
      "1             2        John Smith    3/3/50                 3          4\n",
      "2             3       Helen Smyth    8/8/48                 4          5\n",
      "3             4  Harriet Smithson    9/5/09  9/20/80        5          6\n",
      "4             5       James First   10/6/65                 7          7\n",
      "5             6       Theo Mengel   12/8/48                 7          1\n",
      "6             7        Sue Little   2/21/45                 8          9\n",
      "7             8       Harry Forte   2/28/51                 1          8\n",
      "8             9          Phil Hot   6/30/42                 2          7\n",
      "9            10         Jeff Dawn  12/12/45                 3          6\n",
      "10           11       Rose Spring   5/25/48                 4          5\n",
      "11           12      Davis Heavan   3/10/75                 5          4\n",
      "12           13       Lovely Time  12/28/48                 6          3\n",
      "13           14        Alan Fluff   1/15/35  5/15/97        7          2\n",
      "14           15       Tony Smythe    2/4/32                 8          1\n",
      "15           16       James Quick    8/8/24                 9          2\n",
      "16           17       Freda Miles    4/7/20                 9          3\n",
      "17           18       Elsie James    6/5/47                 8          5\n",
      "18           19        Andy Jones   8/10/58                 7          6\n",
      "19           20    Louise Simpson   10/1/48  2/11/98        6          6\n",
      "20           21     James Steeple   10/1/47                 5          6\n",
      "21           22   Steven Chaytors   11/3/56                 6          7\n"
     ]
    }
   ],
   "source": [
    "import sqlalchemy as sqla\n",
    "\n",
    "db = sqla.create_engine('sqlite:///'+ mc_db_path)\n",
    "\n",
    "mc_df2 = pd.read_sql(mc_sql, db)\n",
    "\n",
    "print(mc_df2)"
   ]
  },
  {
   "cell_type": "code",
   "execution_count": 7,
   "metadata": {},
   "outputs": [
    {
     "name": "stdout",
     "output_type": "stream",
     "text": [
      "    musician_id     musician_name   born_on  died_on  born_in  living_in\n",
      "0             1       Fred Bloggs    2/1/48      NaN        1          2\n",
      "1             2        John Smith    3/3/50      NaN        3          4\n",
      "2             3       Helen Smyth    8/8/48      NaN        4          5\n",
      "3             4  Harriet Smithson    9/5/09  9/20/80        5          6\n",
      "4             5       James First   10/6/65      NaN        7          7\n",
      "5             6       Theo Mengel   12/8/48      NaN        7          1\n",
      "6             7        Sue Little   2/21/45      NaN        8          9\n",
      "7             8       Harry Forte   2/28/51      NaN        1          8\n",
      "8             9          Phil Hot   6/30/42      NaN        2          7\n",
      "9            10         Jeff Dawn  12/12/45      NaN        3          6\n",
      "10           11       Rose Spring   5/25/48      NaN        4          5\n",
      "11           12      Davis Heavan   3/10/75      NaN        5          4\n",
      "12           13       Lovely Time  12/28/48      NaN        6          3\n",
      "13           14        Alan Fluff   1/15/35  5/15/97        7          2\n",
      "14           15       Tony Smythe    2/4/32      NaN        8          1\n",
      "15           16       James Quick    8/8/24      NaN        9          2\n",
      "16           17       Freda Miles    4/7/20      NaN        9          3\n",
      "17           18       Elsie James    6/5/47      NaN        8          5\n",
      "18           19        Andy Jones   8/10/58      NaN        7          6\n",
      "19           20    Louise Simpson   10/1/48  2/11/98        6          6\n",
      "20           21     James Steeple   10/1/47      NaN        5          6\n",
      "21           22   Steven Chaytors   11/3/56      NaN        6          7\n"
     ]
    }
   ],
   "source": [
    "import numpy as np\n",
    "# Convert '' to nulls values in mc_df2 DataFrame:\n",
    "# print(mc_df2[\"died_on\"] == '')\n",
    "\n",
    "mc_df2[\"died_on\"] = mc_df2[\"died_on\"].replace('', np.nan)\n",
    "print(mc_df2)\n",
    "\n",
    "#print(mc_df2[\"died_on\"].isnull())"
   ]
  },
  {
   "cell_type": "code",
   "execution_count": 14,
   "metadata": {
    "scrolled": true
   },
   "outputs": [
    {
     "name": "stdout",
     "output_type": "stream",
     "text": [
      "   instrument_name place_country  place_town  musician_id     musician_name\n",
      "0           violin       Austria    Salzburg            2        John Smith\n",
      "1            viola       England  Birmingham            4  Harriet Smithson\n",
      "2            banjo       England      London            6       Theo Mengel\n",
      "3           violin       England  Manchester            8       Harry Forte\n",
      "4           guitar       England  Birmingham           12      Davis Heavan\n",
      "5           violin       England      London           14        Alan Fluff\n",
      "6          trumpet   Netherlands   Amsterdam           16       James Quick\n",
      "7            viola           USA     Chicago           18       Elsie James\n",
      "8             bass      Scotland     Glasgow           20    Louise Simpson\n",
      "9            flute       Austria    Salzburg            2        John Smith\n",
      "10          cornet      Scotland     Glasgow           20    Louise Simpson\n",
      "11          violin       England      London            6       Theo Mengel\n",
      "12           drums       England  Manchester            8       Harry Forte\n",
      "13          violin       Austria    Salzburg           10         Jeff Dawn\n",
      "14           cello       England  Birmingham           12      Davis Heavan\n",
      "15           viola       England      London           14        Alan Fluff\n",
      "16           flute   Netherlands   Amsterdam           16       James Quick\n",
      "17          guitar           USA     Chicago           18       Elsie James\n",
      "18        trombone      Scotland     Glasgow           20    Louise Simpson\n",
      "19            horn           USA    New York            3       Helen Smyth\n",
      "20          violin       England      London            5       James First\n",
      "21           cello           USA     Chicago            7        Sue Little\n",
      "22            bass       Austria    Salzburg            2        John Smith\n",
      "23          violin       England  Birmingham            4  Harriet Smithson\n",
      "24           drums       England      London            6       Theo Mengel\n",
      "25        clarinet       England  Manchester            8       Harry Forte\n",
      "26            bass       Austria    Salzburg           10         Jeff Dawn\n",
      "27           viola       England  Birmingham           12      Davis Heavan\n",
      "28           cello           USA     Chicago           18       Elsie James\n"
     ]
    }
   ],
   "source": [
    "# Most common instruments used by musicians born in place:\n",
    "mpi_sql = '''\n",
    "SELECT DISTINCT\n",
    "p.instrument instrument_name,\n",
    "pl.place_country,\n",
    "pl.place_town,\n",
    "m.musician_id,\n",
    "m.musician_name\n",
    "FROM performer p\n",
    "JOIN musician m\n",
    "    ON m.musician_id = p.performer_is\n",
    "JOIN place pl\n",
    "    ON pl.place_id = m.born_in\n",
    "'''\n",
    "# Craetes a DataFrame\n",
    "mpi_df = pd.read_sql(mpi_sql, db)\n",
    "\n",
    "type(mpi_df)\n",
    "print(mpi_df)"
   ]
  },
  {
   "cell_type": "code",
   "execution_count": 10,
   "metadata": {},
   "outputs": [
    {
     "name": "stdout",
     "output_type": "stream",
     "text": [
      "  instrument_name place_country\n",
      "0            bass       Austria\n",
      "1          violin       Austria\n",
      "2           flute       Austria\n",
      "3           viola       England\n",
      "4           cello       England\n"
     ]
    }
   ],
   "source": [
    "# Use [[]] if query for more than 1 column based on name\n",
    "print(mpi_df[['instrument_name', 'place_country']][0:5])"
   ]
  },
  {
   "cell_type": "code",
   "execution_count": 24,
   "metadata": {},
   "outputs": [
    {
     "name": "stdout",
     "output_type": "stream",
     "text": [
      "   instrument_name place_country  place_town  musician_id     musician_name\n",
      "0           violin       Austria    Salzburg            2        John Smith\n",
      "3           violin       England  Manchester            8       Harry Forte\n",
      "5           violin       England      London           14        Alan Fluff\n",
      "11          violin       England      London            6       Theo Mengel\n",
      "13          violin       Austria    Salzburg           10         Jeff Dawn\n",
      "20          violin       England      London            5       James First\n",
      "23          violin       England  Birmingham            4  Harriet Smithson\n",
      "7\n",
      "musician_id    7.0\n",
      "dtype: float64\n"
     ]
    }
   ],
   "source": [
    "# Aggregations:\n",
    "\n",
    "# Average: get average number of musicians who play the violoin\n",
    "# Filter data by violin\n",
    "violin = mpi_df[mpi_df['instrument_name'] == 'violin']\n",
    "print(violin)\n",
    "\n",
    "num_violinists = violin['musician_id'].count()\n",
    "print(num_violinists)\n",
    "print(mpi_df[mpi_df['instrument_name'] == 'violin'].mean())"
   ]
  },
  {
   "cell_type": "code",
   "execution_count": null,
   "metadata": {},
   "outputs": [],
   "source": []
  }
 ],
 "metadata": {
  "kernelspec": {
   "display_name": "Python 2",
   "language": "python",
   "name": "python2"
  },
  "language_info": {
   "codemirror_mode": {
    "name": "ipython",
    "version": 2
   },
   "file_extension": ".py",
   "mimetype": "text/x-python",
   "name": "python",
   "nbconvert_exporter": "python",
   "pygments_lexer": "ipython2",
   "version": "2.7.14"
  }
 },
 "nbformat": 4,
 "nbformat_minor": 2
}
